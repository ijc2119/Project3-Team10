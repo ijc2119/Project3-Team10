{
 "cells": [
  {
   "cell_type": "markdown",
   "id": "f4e7b7bf",
   "metadata": {},
   "source": [
    "*Note*: need to assume equal variance since we don't have user level data"
   ]
  },
  {
   "cell_type": "markdown",
   "id": "9427f11d",
   "metadata": {},
   "source": [
    "Page_view: each time the page loads or the browser history state is changed by the active site\n",
    "\n",
    "user_engagement: when the app is in the foreground or webpage is in focus for at least one second\n",
    "\n",
    "session_start: when a user engages the app or website\n",
    "\n",
    "first_visit: the first time a user visits a website or launches an Android instant app with Analytics enabled\n",
    "\n",
    "scroll: the first time a user reaches the bottom of each page (i.e., when a 90% vertical depth becomes visible)\n",
    "\n",
    "submit_feedback: when the user submits a form\n",
    "\n",
    "click: each time a user clicks a link that leads away from the current domain"
   ]
  },
  {
   "cell_type": "markdown",
   "id": "e4aae74e",
   "metadata": {},
   "source": [
    "## Import Data"
   ]
  },
  {
   "cell_type": "code",
   "execution_count": 1,
   "id": "2eb7252d",
   "metadata": {},
   "outputs": [],
   "source": [
    "import pandas as pd\n",
    "#all event data\n",
    "all_events = pd.read_excel('data_by_events.xlsx', sheet_name='all_by_event')\n",
    "\n",
    "#version a event data\n",
    "version_a_events = pd.read_excel('data_by_events.xlsx', sheet_name='version_a_by_event')\n",
    "\n",
    "#version b event data\n",
    "version_b_events = pd.read_excel('data_by_events.xlsx', sheet_name='version_b_by_event')"
   ]
  },
  {
   "cell_type": "markdown",
   "id": "7e39355b",
   "metadata": {},
   "source": [
    "## Two-Proportion Z-Test (for proportions like Bounce/Engagement Rate)"
   ]
  },
  {
   "cell_type": "markdown",
   "id": "62e91251",
   "metadata": {},
   "source": [
    "## T-Test or Welch's T-Test (for means like avg session duration)"
   ]
  }
 ],
 "metadata": {
  "kernelspec": {
   "display_name": "base",
   "language": "python",
   "name": "python3"
  },
  "language_info": {
   "codemirror_mode": {
    "name": "ipython",
    "version": 3
   },
   "file_extension": ".py",
   "mimetype": "text/x-python",
   "name": "python",
   "nbconvert_exporter": "python",
   "pygments_lexer": "ipython3",
   "version": "3.12.7"
  }
 },
 "nbformat": 4,
 "nbformat_minor": 5
}
