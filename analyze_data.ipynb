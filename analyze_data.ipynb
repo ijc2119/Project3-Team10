{
 "cells": [
  {
   "cell_type": "markdown",
   "id": "f4e7b7bf",
   "metadata": {},
   "source": [
    "*Note*: need to assume equal variance since we don't have user level data"
   ]
  },
  {
   "cell_type": "markdown",
   "id": "9427f11d",
   "metadata": {},
   "source": [
    "**Definitions**\n",
    "\n",
    "Page_view: each time the page loads or the browser history state is changed by the active site\n",
    "\n",
    "user_engagement: when the app is in the foreground or webpage is in focus for at least one second\n",
    "\n",
    "session_start: when a user engages the app or website\n",
    "\n",
    "first_visit: the first time a user visits a website or launches an Android instant app with Analytics enabled\n",
    "\n",
    "scroll: the first time a user reaches the bottom of each page (i.e., when a 90% vertical depth becomes visible)\n",
    "\n",
    "submit_feedback: when the user submits a form\n",
    "\n",
    "click: each time a user clicks a link that leads away from the current domain"
   ]
  },
  {
   "cell_type": "markdown",
   "id": "e4aae74e",
   "metadata": {},
   "source": [
    "## Import Data"
   ]
  },
  {
   "cell_type": "code",
   "execution_count": 1,
   "id": "2eb7252d",
   "metadata": {},
   "outputs": [],
   "source": [
    "import pandas as pd\n",
    "#all event data\n",
    "all_events = pd.read_excel('ga_data/data_by_events.xlsx', sheet_name='all_by_event')\n",
    "\n",
    "#version a event data\n",
    "version_a_events = pd.read_excel('ga_data/data_by_events.xlsx', sheet_name='version_a_by_event')\n",
    "\n",
    "#version b event data\n",
    "version_b_events = pd.read_excel('ga_data/data_by_events.xlsx', sheet_name='version_b_by_event')"
   ]
  },
  {
   "cell_type": "code",
   "execution_count": 2,
   "id": "45bcd969-2640-4ccb-b9ce-183f6e82d63f",
   "metadata": {},
   "outputs": [
    {
     "data": {
      "application/vnd.microsoft.datawrangler.viewer.v0+json": {
       "columns": [
        {
         "name": "index",
         "rawType": "int64",
         "type": "integer"
        },
        {
         "name": "Event name",
         "rawType": "object",
         "type": "string"
        },
        {
         "name": "Event count",
         "rawType": "int64",
         "type": "integer"
        },
        {
         "name": "Total users",
         "rawType": "int64",
         "type": "integer"
        },
        {
         "name": "Event count per active user",
         "rawType": "float64",
         "type": "float"
        },
        {
         "name": "Bounce rate",
         "rawType": "float64",
         "type": "float"
        },
        {
         "name": "Average engagement time per session",
         "rawType": "float64",
         "type": "float"
        },
        {
         "name": "Average session duration",
         "rawType": "float64",
         "type": "float"
        },
        {
         "name": "Engagement rate",
         "rawType": "float64",
         "type": "float"
        },
        {
         "name": "Engaged sessions per active user",
         "rawType": "float64",
         "type": "float"
        },
        {
         "name": "Events per session",
         "rawType": "float64",
         "type": "float"
        },
        {
         "name": "Engaged sessions",
         "rawType": "int64",
         "type": "integer"
        },
        {
         "name": "Sessions per active user",
         "rawType": "float64",
         "type": "float"
        },
        {
         "name": "Views per active user",
         "rawType": "float64",
         "type": "float"
        }
       ],
       "conversionMethod": "pd.DataFrame",
       "ref": "7aedabeb-9962-4f3b-b86d-b49901d258fa",
       "rows": [
        [
         "0",
         "page_view",
         "263",
         "115",
         "2.30701754385964",
         "0.481751824817518",
         "0.0",
         "53.8003862919707",
         "0.518248175182481",
         "0.622807017543859",
         "1.91970802919708",
         "71",
         "1.20175438596491",
         "2.30701754385964"
        ],
        [
         "1",
         "user_engagement",
         "164",
         "61",
         "2.77966101694915",
         "0.184210526315789",
         "43.4078947368421",
         "275.341539223684",
         "0.81578947368421",
         "1.05084745762711",
         "2.1578947368421",
         "62",
         "1.28813559322033",
         "0.0"
        ],
        [
         "2",
         "session_start",
         "141",
         "115",
         "1.24778761061946",
         "0.496453900709219",
         "0.0",
         "0.0",
         "0.50354609929078",
         "0.628318584070796",
         "1.0",
         "71",
         "1.24778761061946",
         "0.0"
        ],
        [
         "3",
         "first_visit",
         "118",
         "114",
         "1.05357142857142",
         "0.5",
         "0.0",
         "0.0",
         "0.5",
         "0.526785714285714",
         "1.0",
         "59",
         "1.05357142857142",
         "0.0"
        ],
        [
         "4",
         "scroll",
         "52",
         "32",
         "1.625",
         "0.114285714285714",
         "17.9142857142857",
         "42.9595690571428",
         "0.885714285714285",
         "0.96875",
         "1.48571428571428",
         "31",
         "1.09375",
         "0.0"
        ],
        [
         "5",
         "submit_feedback",
         "43",
         "6",
         "7.16666666666666",
         "0.166666666666666",
         "17.3333333333333",
         "417.030017333333",
         "0.833333333333333",
         "0.833333333333333",
         "7.16666666666666",
         "5",
         "1.0",
         "0.0"
        ],
        [
         "6",
         "click",
         "1",
         "1",
         "1.0",
         "0.0",
         "40.0",
         "127.552674",
         "1.0",
         "1.0",
         "1.0",
         "1",
         "1.0",
         "0.0"
        ]
       ],
       "shape": {
        "columns": 13,
        "rows": 7
       }
      },
      "text/html": [
       "<div>\n",
       "<style scoped>\n",
       "    .dataframe tbody tr th:only-of-type {\n",
       "        vertical-align: middle;\n",
       "    }\n",
       "\n",
       "    .dataframe tbody tr th {\n",
       "        vertical-align: top;\n",
       "    }\n",
       "\n",
       "    .dataframe thead th {\n",
       "        text-align: right;\n",
       "    }\n",
       "</style>\n",
       "<table border=\"1\" class=\"dataframe\">\n",
       "  <thead>\n",
       "    <tr style=\"text-align: right;\">\n",
       "      <th></th>\n",
       "      <th>Event name</th>\n",
       "      <th>Event count</th>\n",
       "      <th>Total users</th>\n",
       "      <th>Event count per active user</th>\n",
       "      <th>Bounce rate</th>\n",
       "      <th>Average engagement time per session</th>\n",
       "      <th>Average session duration</th>\n",
       "      <th>Engagement rate</th>\n",
       "      <th>Engaged sessions per active user</th>\n",
       "      <th>Events per session</th>\n",
       "      <th>Engaged sessions</th>\n",
       "      <th>Sessions per active user</th>\n",
       "      <th>Views per active user</th>\n",
       "    </tr>\n",
       "  </thead>\n",
       "  <tbody>\n",
       "    <tr>\n",
       "      <th>0</th>\n",
       "      <td>page_view</td>\n",
       "      <td>263</td>\n",
       "      <td>115</td>\n",
       "      <td>2.307018</td>\n",
       "      <td>0.481752</td>\n",
       "      <td>0.000000</td>\n",
       "      <td>53.800386</td>\n",
       "      <td>0.518248</td>\n",
       "      <td>0.622807</td>\n",
       "      <td>1.919708</td>\n",
       "      <td>71</td>\n",
       "      <td>1.201754</td>\n",
       "      <td>2.307018</td>\n",
       "    </tr>\n",
       "    <tr>\n",
       "      <th>1</th>\n",
       "      <td>user_engagement</td>\n",
       "      <td>164</td>\n",
       "      <td>61</td>\n",
       "      <td>2.779661</td>\n",
       "      <td>0.184211</td>\n",
       "      <td>43.407895</td>\n",
       "      <td>275.341539</td>\n",
       "      <td>0.815789</td>\n",
       "      <td>1.050847</td>\n",
       "      <td>2.157895</td>\n",
       "      <td>62</td>\n",
       "      <td>1.288136</td>\n",
       "      <td>0.000000</td>\n",
       "    </tr>\n",
       "    <tr>\n",
       "      <th>2</th>\n",
       "      <td>session_start</td>\n",
       "      <td>141</td>\n",
       "      <td>115</td>\n",
       "      <td>1.247788</td>\n",
       "      <td>0.496454</td>\n",
       "      <td>0.000000</td>\n",
       "      <td>0.000000</td>\n",
       "      <td>0.503546</td>\n",
       "      <td>0.628319</td>\n",
       "      <td>1.000000</td>\n",
       "      <td>71</td>\n",
       "      <td>1.247788</td>\n",
       "      <td>0.000000</td>\n",
       "    </tr>\n",
       "    <tr>\n",
       "      <th>3</th>\n",
       "      <td>first_visit</td>\n",
       "      <td>118</td>\n",
       "      <td>114</td>\n",
       "      <td>1.053571</td>\n",
       "      <td>0.500000</td>\n",
       "      <td>0.000000</td>\n",
       "      <td>0.000000</td>\n",
       "      <td>0.500000</td>\n",
       "      <td>0.526786</td>\n",
       "      <td>1.000000</td>\n",
       "      <td>59</td>\n",
       "      <td>1.053571</td>\n",
       "      <td>0.000000</td>\n",
       "    </tr>\n",
       "    <tr>\n",
       "      <th>4</th>\n",
       "      <td>scroll</td>\n",
       "      <td>52</td>\n",
       "      <td>32</td>\n",
       "      <td>1.625000</td>\n",
       "      <td>0.114286</td>\n",
       "      <td>17.914286</td>\n",
       "      <td>42.959569</td>\n",
       "      <td>0.885714</td>\n",
       "      <td>0.968750</td>\n",
       "      <td>1.485714</td>\n",
       "      <td>31</td>\n",
       "      <td>1.093750</td>\n",
       "      <td>0.000000</td>\n",
       "    </tr>\n",
       "    <tr>\n",
       "      <th>5</th>\n",
       "      <td>submit_feedback</td>\n",
       "      <td>43</td>\n",
       "      <td>6</td>\n",
       "      <td>7.166667</td>\n",
       "      <td>0.166667</td>\n",
       "      <td>17.333333</td>\n",
       "      <td>417.030017</td>\n",
       "      <td>0.833333</td>\n",
       "      <td>0.833333</td>\n",
       "      <td>7.166667</td>\n",
       "      <td>5</td>\n",
       "      <td>1.000000</td>\n",
       "      <td>0.000000</td>\n",
       "    </tr>\n",
       "    <tr>\n",
       "      <th>6</th>\n",
       "      <td>click</td>\n",
       "      <td>1</td>\n",
       "      <td>1</td>\n",
       "      <td>1.000000</td>\n",
       "      <td>0.000000</td>\n",
       "      <td>40.000000</td>\n",
       "      <td>127.552674</td>\n",
       "      <td>1.000000</td>\n",
       "      <td>1.000000</td>\n",
       "      <td>1.000000</td>\n",
       "      <td>1</td>\n",
       "      <td>1.000000</td>\n",
       "      <td>0.000000</td>\n",
       "    </tr>\n",
       "  </tbody>\n",
       "</table>\n",
       "</div>"
      ],
      "text/plain": [
       "        Event name  Event count  Total users  Event count per active user  \\\n",
       "0        page_view          263          115                     2.307018   \n",
       "1  user_engagement          164           61                     2.779661   \n",
       "2    session_start          141          115                     1.247788   \n",
       "3      first_visit          118          114                     1.053571   \n",
       "4           scroll           52           32                     1.625000   \n",
       "5  submit_feedback           43            6                     7.166667   \n",
       "6            click            1            1                     1.000000   \n",
       "\n",
       "   Bounce rate  Average engagement time per session  Average session duration  \\\n",
       "0     0.481752                             0.000000                 53.800386   \n",
       "1     0.184211                            43.407895                275.341539   \n",
       "2     0.496454                             0.000000                  0.000000   \n",
       "3     0.500000                             0.000000                  0.000000   \n",
       "4     0.114286                            17.914286                 42.959569   \n",
       "5     0.166667                            17.333333                417.030017   \n",
       "6     0.000000                            40.000000                127.552674   \n",
       "\n",
       "   Engagement rate  Engaged sessions per active user  Events per session  \\\n",
       "0         0.518248                          0.622807            1.919708   \n",
       "1         0.815789                          1.050847            2.157895   \n",
       "2         0.503546                          0.628319            1.000000   \n",
       "3         0.500000                          0.526786            1.000000   \n",
       "4         0.885714                          0.968750            1.485714   \n",
       "5         0.833333                          0.833333            7.166667   \n",
       "6         1.000000                          1.000000            1.000000   \n",
       "\n",
       "   Engaged sessions  Sessions per active user  Views per active user  \n",
       "0                71                  1.201754               2.307018  \n",
       "1                62                  1.288136               0.000000  \n",
       "2                71                  1.247788               0.000000  \n",
       "3                59                  1.053571               0.000000  \n",
       "4                31                  1.093750               0.000000  \n",
       "5                 5                  1.000000               0.000000  \n",
       "6                 1                  1.000000               0.000000  "
      ]
     },
     "execution_count": 2,
     "metadata": {},
     "output_type": "execute_result"
    }
   ],
   "source": [
    "all_events"
   ]
  },
  {
   "cell_type": "code",
   "execution_count": 3,
   "id": "6496eab0-8465-40ad-8fd7-f3cda21a9f54",
   "metadata": {},
   "outputs": [
    {
     "data": {
      "application/vnd.microsoft.datawrangler.viewer.v0+json": {
       "columns": [
        {
         "name": "index",
         "rawType": "int64",
         "type": "integer"
        },
        {
         "name": "Event name",
         "rawType": "object",
         "type": "string"
        },
        {
         "name": "Event count",
         "rawType": "int64",
         "type": "integer"
        },
        {
         "name": "Total users",
         "rawType": "int64",
         "type": "integer"
        },
        {
         "name": "Event count per active user",
         "rawType": "float64",
         "type": "float"
        },
        {
         "name": "Bounce rate",
         "rawType": "float64",
         "type": "float"
        },
        {
         "name": "Average engagement time per session",
         "rawType": "float64",
         "type": "float"
        },
        {
         "name": "Average session duration",
         "rawType": "float64",
         "type": "float"
        },
        {
         "name": "Engagement rate",
         "rawType": "float64",
         "type": "float"
        },
        {
         "name": "Engaged sessions per active user",
         "rawType": "float64",
         "type": "float"
        },
        {
         "name": "Events per session",
         "rawType": "float64",
         "type": "float"
        },
        {
         "name": "Engaged sessions",
         "rawType": "int64",
         "type": "integer"
        },
        {
         "name": "Sessions per active user",
         "rawType": "float64",
         "type": "float"
        },
        {
         "name": "Views per active user",
         "rawType": "float64",
         "type": "float"
        }
       ],
       "conversionMethod": "pd.DataFrame",
       "ref": "2be62174-59c3-4f15-b1ca-ebfef99b4d0f",
       "rows": [
        [
         "0",
         "page_view",
         "150",
         "61",
         "2.45901639344262",
         "0.472222222222222",
         "0.0",
         "78.3890934444444",
         "0.527777777777777",
         "0.622950819672131",
         "2.08333333333333",
         "38",
         "1.18032786885245",
         "2.45901639344262"
        ],
        [
         "1",
         "user_engagement",
         "94",
         "30",
         "3.35714285714285",
         "0.179487179487179",
         "34.076923076923",
         "316.262633794871",
         "0.82051282051282",
         "1.14285714285714",
         "2.41025641025641",
         "32",
         "1.39285714285714",
         "0.0"
        ],
        [
         "2",
         "session_start",
         "74",
         "59",
         "1.27586206896551",
         "0.513513513513513",
         "0.0",
         "0.0",
         "0.486486486486486",
         "0.620689655172413",
         "1.0",
         "36",
         "1.27586206896551",
         "0.0"
        ],
        [
         "3",
         "first_visit",
         "60",
         "58",
         "1.05263157894736",
         "0.533333333333333",
         "0.0",
         "0.0",
         "0.466666666666666",
         "0.491228070175438",
         "1.0",
         "28",
         "1.05263157894736",
         "0.0"
        ],
        [
         "4",
         "scroll",
         "19",
         "7",
         "2.71428571428571",
         "0.222222222222222",
         "16.5555555555555",
         "32.0829236666666",
         "0.777777777777777",
         "1.0",
         "2.11111111111111",
         "7",
         "1.28571428571428",
         "0.0"
        ],
        [
         "5",
         "submit_feedback",
         "40",
         "4",
         "10.0",
         "0.25",
         "21.0",
         "374.0336475",
         "0.75",
         "0.75",
         "10.0",
         "3",
         "1.0",
         "0.0"
        ],
        [
         "6",
         "click",
         "0",
         "0",
         "0.0",
         "0.0",
         "0.0",
         "0.0",
         "0.0",
         "0.0",
         "0.0",
         "0",
         "0.0",
         "0.0"
        ]
       ],
       "shape": {
        "columns": 13,
        "rows": 7
       }
      },
      "text/html": [
       "<div>\n",
       "<style scoped>\n",
       "    .dataframe tbody tr th:only-of-type {\n",
       "        vertical-align: middle;\n",
       "    }\n",
       "\n",
       "    .dataframe tbody tr th {\n",
       "        vertical-align: top;\n",
       "    }\n",
       "\n",
       "    .dataframe thead th {\n",
       "        text-align: right;\n",
       "    }\n",
       "</style>\n",
       "<table border=\"1\" class=\"dataframe\">\n",
       "  <thead>\n",
       "    <tr style=\"text-align: right;\">\n",
       "      <th></th>\n",
       "      <th>Event name</th>\n",
       "      <th>Event count</th>\n",
       "      <th>Total users</th>\n",
       "      <th>Event count per active user</th>\n",
       "      <th>Bounce rate</th>\n",
       "      <th>Average engagement time per session</th>\n",
       "      <th>Average session duration</th>\n",
       "      <th>Engagement rate</th>\n",
       "      <th>Engaged sessions per active user</th>\n",
       "      <th>Events per session</th>\n",
       "      <th>Engaged sessions</th>\n",
       "      <th>Sessions per active user</th>\n",
       "      <th>Views per active user</th>\n",
       "    </tr>\n",
       "  </thead>\n",
       "  <tbody>\n",
       "    <tr>\n",
       "      <th>0</th>\n",
       "      <td>page_view</td>\n",
       "      <td>150</td>\n",
       "      <td>61</td>\n",
       "      <td>2.459016</td>\n",
       "      <td>0.472222</td>\n",
       "      <td>0.000000</td>\n",
       "      <td>78.389093</td>\n",
       "      <td>0.527778</td>\n",
       "      <td>0.622951</td>\n",
       "      <td>2.083333</td>\n",
       "      <td>38</td>\n",
       "      <td>1.180328</td>\n",
       "      <td>2.459016</td>\n",
       "    </tr>\n",
       "    <tr>\n",
       "      <th>1</th>\n",
       "      <td>user_engagement</td>\n",
       "      <td>94</td>\n",
       "      <td>30</td>\n",
       "      <td>3.357143</td>\n",
       "      <td>0.179487</td>\n",
       "      <td>34.076923</td>\n",
       "      <td>316.262634</td>\n",
       "      <td>0.820513</td>\n",
       "      <td>1.142857</td>\n",
       "      <td>2.410256</td>\n",
       "      <td>32</td>\n",
       "      <td>1.392857</td>\n",
       "      <td>0.000000</td>\n",
       "    </tr>\n",
       "    <tr>\n",
       "      <th>2</th>\n",
       "      <td>session_start</td>\n",
       "      <td>74</td>\n",
       "      <td>59</td>\n",
       "      <td>1.275862</td>\n",
       "      <td>0.513514</td>\n",
       "      <td>0.000000</td>\n",
       "      <td>0.000000</td>\n",
       "      <td>0.486486</td>\n",
       "      <td>0.620690</td>\n",
       "      <td>1.000000</td>\n",
       "      <td>36</td>\n",
       "      <td>1.275862</td>\n",
       "      <td>0.000000</td>\n",
       "    </tr>\n",
       "    <tr>\n",
       "      <th>3</th>\n",
       "      <td>first_visit</td>\n",
       "      <td>60</td>\n",
       "      <td>58</td>\n",
       "      <td>1.052632</td>\n",
       "      <td>0.533333</td>\n",
       "      <td>0.000000</td>\n",
       "      <td>0.000000</td>\n",
       "      <td>0.466667</td>\n",
       "      <td>0.491228</td>\n",
       "      <td>1.000000</td>\n",
       "      <td>28</td>\n",
       "      <td>1.052632</td>\n",
       "      <td>0.000000</td>\n",
       "    </tr>\n",
       "    <tr>\n",
       "      <th>4</th>\n",
       "      <td>scroll</td>\n",
       "      <td>19</td>\n",
       "      <td>7</td>\n",
       "      <td>2.714286</td>\n",
       "      <td>0.222222</td>\n",
       "      <td>16.555556</td>\n",
       "      <td>32.082924</td>\n",
       "      <td>0.777778</td>\n",
       "      <td>1.000000</td>\n",
       "      <td>2.111111</td>\n",
       "      <td>7</td>\n",
       "      <td>1.285714</td>\n",
       "      <td>0.000000</td>\n",
       "    </tr>\n",
       "    <tr>\n",
       "      <th>5</th>\n",
       "      <td>submit_feedback</td>\n",
       "      <td>40</td>\n",
       "      <td>4</td>\n",
       "      <td>10.000000</td>\n",
       "      <td>0.250000</td>\n",
       "      <td>21.000000</td>\n",
       "      <td>374.033647</td>\n",
       "      <td>0.750000</td>\n",
       "      <td>0.750000</td>\n",
       "      <td>10.000000</td>\n",
       "      <td>3</td>\n",
       "      <td>1.000000</td>\n",
       "      <td>0.000000</td>\n",
       "    </tr>\n",
       "    <tr>\n",
       "      <th>6</th>\n",
       "      <td>click</td>\n",
       "      <td>0</td>\n",
       "      <td>0</td>\n",
       "      <td>0.000000</td>\n",
       "      <td>0.000000</td>\n",
       "      <td>0.000000</td>\n",
       "      <td>0.000000</td>\n",
       "      <td>0.000000</td>\n",
       "      <td>0.000000</td>\n",
       "      <td>0.000000</td>\n",
       "      <td>0</td>\n",
       "      <td>0.000000</td>\n",
       "      <td>0.000000</td>\n",
       "    </tr>\n",
       "  </tbody>\n",
       "</table>\n",
       "</div>"
      ],
      "text/plain": [
       "        Event name  Event count  Total users  Event count per active user  \\\n",
       "0        page_view          150           61                     2.459016   \n",
       "1  user_engagement           94           30                     3.357143   \n",
       "2    session_start           74           59                     1.275862   \n",
       "3      first_visit           60           58                     1.052632   \n",
       "4           scroll           19            7                     2.714286   \n",
       "5  submit_feedback           40            4                    10.000000   \n",
       "6            click            0            0                     0.000000   \n",
       "\n",
       "   Bounce rate  Average engagement time per session  Average session duration  \\\n",
       "0     0.472222                             0.000000                 78.389093   \n",
       "1     0.179487                            34.076923                316.262634   \n",
       "2     0.513514                             0.000000                  0.000000   \n",
       "3     0.533333                             0.000000                  0.000000   \n",
       "4     0.222222                            16.555556                 32.082924   \n",
       "5     0.250000                            21.000000                374.033647   \n",
       "6     0.000000                             0.000000                  0.000000   \n",
       "\n",
       "   Engagement rate  Engaged sessions per active user  Events per session  \\\n",
       "0         0.527778                          0.622951            2.083333   \n",
       "1         0.820513                          1.142857            2.410256   \n",
       "2         0.486486                          0.620690            1.000000   \n",
       "3         0.466667                          0.491228            1.000000   \n",
       "4         0.777778                          1.000000            2.111111   \n",
       "5         0.750000                          0.750000           10.000000   \n",
       "6         0.000000                          0.000000            0.000000   \n",
       "\n",
       "   Engaged sessions  Sessions per active user  Views per active user  \n",
       "0                38                  1.180328               2.459016  \n",
       "1                32                  1.392857               0.000000  \n",
       "2                36                  1.275862               0.000000  \n",
       "3                28                  1.052632               0.000000  \n",
       "4                 7                  1.285714               0.000000  \n",
       "5                 3                  1.000000               0.000000  \n",
       "6                 0                  0.000000               0.000000  "
      ]
     },
     "execution_count": 3,
     "metadata": {},
     "output_type": "execute_result"
    }
   ],
   "source": [
    "version_a_events"
   ]
  },
  {
   "cell_type": "code",
   "execution_count": 4,
   "id": "5aed3327-c359-4838-a665-d14ba4727da2",
   "metadata": {},
   "outputs": [
    {
     "data": {
      "application/vnd.microsoft.datawrangler.viewer.v0+json": {
       "columns": [
        {
         "name": "index",
         "rawType": "int64",
         "type": "integer"
        },
        {
         "name": "Event name",
         "rawType": "object",
         "type": "string"
        },
        {
         "name": "Event count",
         "rawType": "int64",
         "type": "integer"
        },
        {
         "name": "Total users",
         "rawType": "int64",
         "type": "integer"
        },
        {
         "name": "Event count per active user",
         "rawType": "float64",
         "type": "float"
        },
        {
         "name": "Bounce rate",
         "rawType": "float64",
         "type": "float"
        },
        {
         "name": "Average engagement time per session",
         "rawType": "float64",
         "type": "float"
        },
        {
         "name": "Average session duration",
         "rawType": "float64",
         "type": "float"
        },
        {
         "name": "Engagement rate",
         "rawType": "float64",
         "type": "float"
        },
        {
         "name": "Engaged sessions per active user",
         "rawType": "float64",
         "type": "float"
        },
        {
         "name": "Events per session",
         "rawType": "float64",
         "type": "float"
        },
        {
         "name": "Engaged sessions",
         "rawType": "int64",
         "type": "integer"
        },
        {
         "name": "Sessions per active user",
         "rawType": "float64",
         "type": "float"
        },
        {
         "name": "Views per active user",
         "rawType": "float64",
         "type": "float"
        }
       ],
       "conversionMethod": "pd.DataFrame",
       "ref": "efb8426e-3b31-4a5b-988d-f3e57e29ce77",
       "rows": [
        [
         "0",
         "page_view",
         "113",
         "67",
         "1.71212121212121",
         "0.421052631578947",
         "0.0",
         "22.7189236052631",
         "0.578947368421052",
         "0.666666666666666",
         "1.48684210526315",
         "44",
         "1.15151515151515",
         "1.71212121212121"
        ],
        [
         "1",
         "user_engagement",
         "70",
         "36",
         "1.94444444444444",
         "0.170731707317073",
         "48.0487804878048",
         "209.554006414634",
         "0.829268292682926",
         "0.944444444444444",
         "1.70731707317073",
         "34",
         "1.13888888888888",
         "0.0"
        ],
        [
         "2",
         "session_start",
         "67",
         "58",
         "1.17543859649122",
         "0.477611940298507",
         "0.0",
         "0.0",
         "0.522388059701492",
         "0.614035087719298",
         "1.0",
         "35",
         "1.17543859649122",
         "0.0"
        ],
        [
         "3",
         "first_visit",
         "58",
         "57",
         "1.03571428571428",
         "0.46551724137931",
         "0.0",
         "0.0",
         "0.534482758620689",
         "0.553571428571428",
         "1.0",
         "31",
         "1.03571428571428",
         "0.0"
        ],
        [
         "4",
         "scroll",
         "33",
         "26",
         "1.26923076923076",
         "0.0769230769230769",
         "18.3846153846153",
         "46.7245616923076",
         "0.923076923076923",
         "0.923076923076923",
         "1.26923076923076",
         "24",
         "1.0",
         "0.0"
        ],
        [
         "5",
         "submit_feedback",
         "3",
         "2",
         "1.5",
         "0.0",
         "10.0",
         "503.022757",
         "1.0",
         "1.0",
         "1.5",
         "2",
         "1.0",
         "0.0"
        ],
        [
         "6",
         "click",
         "1",
         "1",
         "1.0",
         "0.0",
         "40.0",
         "127.552674",
         "1.0",
         "1.0",
         "1.0",
         "1",
         "1.0",
         "0.0"
        ]
       ],
       "shape": {
        "columns": 13,
        "rows": 7
       }
      },
      "text/html": [
       "<div>\n",
       "<style scoped>\n",
       "    .dataframe tbody tr th:only-of-type {\n",
       "        vertical-align: middle;\n",
       "    }\n",
       "\n",
       "    .dataframe tbody tr th {\n",
       "        vertical-align: top;\n",
       "    }\n",
       "\n",
       "    .dataframe thead th {\n",
       "        text-align: right;\n",
       "    }\n",
       "</style>\n",
       "<table border=\"1\" class=\"dataframe\">\n",
       "  <thead>\n",
       "    <tr style=\"text-align: right;\">\n",
       "      <th></th>\n",
       "      <th>Event name</th>\n",
       "      <th>Event count</th>\n",
       "      <th>Total users</th>\n",
       "      <th>Event count per active user</th>\n",
       "      <th>Bounce rate</th>\n",
       "      <th>Average engagement time per session</th>\n",
       "      <th>Average session duration</th>\n",
       "      <th>Engagement rate</th>\n",
       "      <th>Engaged sessions per active user</th>\n",
       "      <th>Events per session</th>\n",
       "      <th>Engaged sessions</th>\n",
       "      <th>Sessions per active user</th>\n",
       "      <th>Views per active user</th>\n",
       "    </tr>\n",
       "  </thead>\n",
       "  <tbody>\n",
       "    <tr>\n",
       "      <th>0</th>\n",
       "      <td>page_view</td>\n",
       "      <td>113</td>\n",
       "      <td>67</td>\n",
       "      <td>1.712121</td>\n",
       "      <td>0.421053</td>\n",
       "      <td>0.000000</td>\n",
       "      <td>22.718924</td>\n",
       "      <td>0.578947</td>\n",
       "      <td>0.666667</td>\n",
       "      <td>1.486842</td>\n",
       "      <td>44</td>\n",
       "      <td>1.151515</td>\n",
       "      <td>1.712121</td>\n",
       "    </tr>\n",
       "    <tr>\n",
       "      <th>1</th>\n",
       "      <td>user_engagement</td>\n",
       "      <td>70</td>\n",
       "      <td>36</td>\n",
       "      <td>1.944444</td>\n",
       "      <td>0.170732</td>\n",
       "      <td>48.048780</td>\n",
       "      <td>209.554006</td>\n",
       "      <td>0.829268</td>\n",
       "      <td>0.944444</td>\n",
       "      <td>1.707317</td>\n",
       "      <td>34</td>\n",
       "      <td>1.138889</td>\n",
       "      <td>0.000000</td>\n",
       "    </tr>\n",
       "    <tr>\n",
       "      <th>2</th>\n",
       "      <td>session_start</td>\n",
       "      <td>67</td>\n",
       "      <td>58</td>\n",
       "      <td>1.175439</td>\n",
       "      <td>0.477612</td>\n",
       "      <td>0.000000</td>\n",
       "      <td>0.000000</td>\n",
       "      <td>0.522388</td>\n",
       "      <td>0.614035</td>\n",
       "      <td>1.000000</td>\n",
       "      <td>35</td>\n",
       "      <td>1.175439</td>\n",
       "      <td>0.000000</td>\n",
       "    </tr>\n",
       "    <tr>\n",
       "      <th>3</th>\n",
       "      <td>first_visit</td>\n",
       "      <td>58</td>\n",
       "      <td>57</td>\n",
       "      <td>1.035714</td>\n",
       "      <td>0.465517</td>\n",
       "      <td>0.000000</td>\n",
       "      <td>0.000000</td>\n",
       "      <td>0.534483</td>\n",
       "      <td>0.553571</td>\n",
       "      <td>1.000000</td>\n",
       "      <td>31</td>\n",
       "      <td>1.035714</td>\n",
       "      <td>0.000000</td>\n",
       "    </tr>\n",
       "    <tr>\n",
       "      <th>4</th>\n",
       "      <td>scroll</td>\n",
       "      <td>33</td>\n",
       "      <td>26</td>\n",
       "      <td>1.269231</td>\n",
       "      <td>0.076923</td>\n",
       "      <td>18.384615</td>\n",
       "      <td>46.724562</td>\n",
       "      <td>0.923077</td>\n",
       "      <td>0.923077</td>\n",
       "      <td>1.269231</td>\n",
       "      <td>24</td>\n",
       "      <td>1.000000</td>\n",
       "      <td>0.000000</td>\n",
       "    </tr>\n",
       "    <tr>\n",
       "      <th>5</th>\n",
       "      <td>submit_feedback</td>\n",
       "      <td>3</td>\n",
       "      <td>2</td>\n",
       "      <td>1.500000</td>\n",
       "      <td>0.000000</td>\n",
       "      <td>10.000000</td>\n",
       "      <td>503.022757</td>\n",
       "      <td>1.000000</td>\n",
       "      <td>1.000000</td>\n",
       "      <td>1.500000</td>\n",
       "      <td>2</td>\n",
       "      <td>1.000000</td>\n",
       "      <td>0.000000</td>\n",
       "    </tr>\n",
       "    <tr>\n",
       "      <th>6</th>\n",
       "      <td>click</td>\n",
       "      <td>1</td>\n",
       "      <td>1</td>\n",
       "      <td>1.000000</td>\n",
       "      <td>0.000000</td>\n",
       "      <td>40.000000</td>\n",
       "      <td>127.552674</td>\n",
       "      <td>1.000000</td>\n",
       "      <td>1.000000</td>\n",
       "      <td>1.000000</td>\n",
       "      <td>1</td>\n",
       "      <td>1.000000</td>\n",
       "      <td>0.000000</td>\n",
       "    </tr>\n",
       "  </tbody>\n",
       "</table>\n",
       "</div>"
      ],
      "text/plain": [
       "        Event name  Event count  Total users  Event count per active user  \\\n",
       "0        page_view          113           67                     1.712121   \n",
       "1  user_engagement           70           36                     1.944444   \n",
       "2    session_start           67           58                     1.175439   \n",
       "3      first_visit           58           57                     1.035714   \n",
       "4           scroll           33           26                     1.269231   \n",
       "5  submit_feedback            3            2                     1.500000   \n",
       "6            click            1            1                     1.000000   \n",
       "\n",
       "   Bounce rate  Average engagement time per session  Average session duration  \\\n",
       "0     0.421053                             0.000000                 22.718924   \n",
       "1     0.170732                            48.048780                209.554006   \n",
       "2     0.477612                             0.000000                  0.000000   \n",
       "3     0.465517                             0.000000                  0.000000   \n",
       "4     0.076923                            18.384615                 46.724562   \n",
       "5     0.000000                            10.000000                503.022757   \n",
       "6     0.000000                            40.000000                127.552674   \n",
       "\n",
       "   Engagement rate  Engaged sessions per active user  Events per session  \\\n",
       "0         0.578947                          0.666667            1.486842   \n",
       "1         0.829268                          0.944444            1.707317   \n",
       "2         0.522388                          0.614035            1.000000   \n",
       "3         0.534483                          0.553571            1.000000   \n",
       "4         0.923077                          0.923077            1.269231   \n",
       "5         1.000000                          1.000000            1.500000   \n",
       "6         1.000000                          1.000000            1.000000   \n",
       "\n",
       "   Engaged sessions  Sessions per active user  Views per active user  \n",
       "0                44                  1.151515               1.712121  \n",
       "1                34                  1.138889               0.000000  \n",
       "2                35                  1.175439               0.000000  \n",
       "3                31                  1.035714               0.000000  \n",
       "4                24                  1.000000               0.000000  \n",
       "5                 2                  1.000000               0.000000  \n",
       "6                 1                  1.000000               0.000000  "
      ]
     },
     "execution_count": 4,
     "metadata": {},
     "output_type": "execute_result"
    }
   ],
   "source": [
    "version_b_events"
   ]
  },
  {
   "cell_type": "code",
   "execution_count": 5,
   "id": "5b1a4450-473b-4bc9-a68e-5b84583f5284",
   "metadata": {},
   "outputs": [],
   "source": [
    "# from google forms\n",
    "#version a rating data\n",
    "version_a_ratings = pd.read_csv('ga_data/version_a_ratings.csv')\n",
    "\n",
    "#version b rating data\n",
    "version_b_ratings = pd.read_csv('ga_data/version_b_ratings.csv')"
   ]
  },
  {
   "cell_type": "code",
   "execution_count": 6,
   "id": "865155c8-b753-4015-9523-e610f9ef46d4",
   "metadata": {},
   "outputs": [
    {
     "data": {
      "application/vnd.microsoft.datawrangler.viewer.v0+json": {
       "columns": [
        {
         "name": "index",
         "rawType": "int64",
         "type": "integer"
        },
        {
         "name": "timestamp",
         "rawType": "object",
         "type": "string"
        },
        {
         "name": "rate",
         "rawType": "int64",
         "type": "integer"
        }
       ],
       "conversionMethod": "pd.DataFrame",
       "ref": "7ae5cf1f-4a42-43ea-80ad-9d3f7ca8291d",
       "rows": [
        [
         "0",
         "4/19/2025 12:17:28",
         "1"
        ],
        [
         "1",
         "4/19/2025 15:12:28",
         "4"
        ],
        [
         "2",
         "4/19/2025 15:41:45",
         "5"
        ],
        [
         "3",
         "4/19/2025 16:04:16",
         "4"
        ],
        [
         "4",
         "4/19/2025 20:53:02",
         "5"
        ],
        [
         "5",
         "4/20/2025 14:45:45",
         "5"
        ],
        [
         "6",
         "4/21/2025 17:29:36",
         "5"
        ],
        [
         "7",
         "4/21/2025 17:32:22",
         "5"
        ],
        [
         "8",
         "4/21/2025 21:15:22",
         "5"
        ],
        [
         "9",
         "4/22/2025 1:35:32",
         "3"
        ],
        [
         "10",
         "4/22/2025 19:10:58",
         "5"
        ]
       ],
       "shape": {
        "columns": 2,
        "rows": 11
       }
      },
      "text/html": [
       "<div>\n",
       "<style scoped>\n",
       "    .dataframe tbody tr th:only-of-type {\n",
       "        vertical-align: middle;\n",
       "    }\n",
       "\n",
       "    .dataframe tbody tr th {\n",
       "        vertical-align: top;\n",
       "    }\n",
       "\n",
       "    .dataframe thead th {\n",
       "        text-align: right;\n",
       "    }\n",
       "</style>\n",
       "<table border=\"1\" class=\"dataframe\">\n",
       "  <thead>\n",
       "    <tr style=\"text-align: right;\">\n",
       "      <th></th>\n",
       "      <th>timestamp</th>\n",
       "      <th>rate</th>\n",
       "    </tr>\n",
       "  </thead>\n",
       "  <tbody>\n",
       "    <tr>\n",
       "      <th>0</th>\n",
       "      <td>4/19/2025 12:17:28</td>\n",
       "      <td>1</td>\n",
       "    </tr>\n",
       "    <tr>\n",
       "      <th>1</th>\n",
       "      <td>4/19/2025 15:12:28</td>\n",
       "      <td>4</td>\n",
       "    </tr>\n",
       "    <tr>\n",
       "      <th>2</th>\n",
       "      <td>4/19/2025 15:41:45</td>\n",
       "      <td>5</td>\n",
       "    </tr>\n",
       "    <tr>\n",
       "      <th>3</th>\n",
       "      <td>4/19/2025 16:04:16</td>\n",
       "      <td>4</td>\n",
       "    </tr>\n",
       "    <tr>\n",
       "      <th>4</th>\n",
       "      <td>4/19/2025 20:53:02</td>\n",
       "      <td>5</td>\n",
       "    </tr>\n",
       "    <tr>\n",
       "      <th>5</th>\n",
       "      <td>4/20/2025 14:45:45</td>\n",
       "      <td>5</td>\n",
       "    </tr>\n",
       "    <tr>\n",
       "      <th>6</th>\n",
       "      <td>4/21/2025 17:29:36</td>\n",
       "      <td>5</td>\n",
       "    </tr>\n",
       "    <tr>\n",
       "      <th>7</th>\n",
       "      <td>4/21/2025 17:32:22</td>\n",
       "      <td>5</td>\n",
       "    </tr>\n",
       "    <tr>\n",
       "      <th>8</th>\n",
       "      <td>4/21/2025 21:15:22</td>\n",
       "      <td>5</td>\n",
       "    </tr>\n",
       "    <tr>\n",
       "      <th>9</th>\n",
       "      <td>4/22/2025 1:35:32</td>\n",
       "      <td>3</td>\n",
       "    </tr>\n",
       "    <tr>\n",
       "      <th>10</th>\n",
       "      <td>4/22/2025 19:10:58</td>\n",
       "      <td>5</td>\n",
       "    </tr>\n",
       "  </tbody>\n",
       "</table>\n",
       "</div>"
      ],
      "text/plain": [
       "             timestamp  rate\n",
       "0   4/19/2025 12:17:28     1\n",
       "1   4/19/2025 15:12:28     4\n",
       "2   4/19/2025 15:41:45     5\n",
       "3   4/19/2025 16:04:16     4\n",
       "4   4/19/2025 20:53:02     5\n",
       "5   4/20/2025 14:45:45     5\n",
       "6   4/21/2025 17:29:36     5\n",
       "7   4/21/2025 17:32:22     5\n",
       "8   4/21/2025 21:15:22     5\n",
       "9    4/22/2025 1:35:32     3\n",
       "10  4/22/2025 19:10:58     5"
      ]
     },
     "execution_count": 6,
     "metadata": {},
     "output_type": "execute_result"
    }
   ],
   "source": [
    "version_a_ratings"
   ]
  },
  {
   "cell_type": "code",
   "execution_count": 6,
   "id": "76c6c7f4",
   "metadata": {},
   "outputs": [
    {
     "data": {
      "application/vnd.microsoft.datawrangler.viewer.v0+json": {
       "columns": [
        {
         "name": "index",
         "rawType": "int64",
         "type": "integer"
        },
        {
         "name": "Version",
         "rawType": "object",
         "type": "string"
        },
        {
         "name": "Active users",
         "rawType": "int64",
         "type": "integer"
        },
        {
         "name": "New users",
         "rawType": "int64",
         "type": "integer"
        },
        {
         "name": "Average engagement time per active user",
         "rawType": "float64",
         "type": "float"
        },
        {
         "name": "Bounce rate",
         "rawType": "float64",
         "type": "float"
        },
        {
         "name": "Average session duration",
         "rawType": "float64",
         "type": "float"
        },
        {
         "name": "Event count",
         "rawType": "int64",
         "type": "integer"
        },
        {
         "name": "Event value",
         "rawType": "int64",
         "type": "integer"
        },
        {
         "name": "Engagement rate",
         "rawType": "float64",
         "type": "float"
        }
       ],
       "conversionMethod": "pd.DataFrame",
       "ref": "6318b6ec-fbe4-4dd9-b9f7-a896cb48176b",
       "rows": [
        [
         "0",
         "a",
         "62",
         "61",
         "25.19354839",
         "0.46835443",
         "253.888132",
         "443",
         "146",
         "0.53164557"
        ],
        [
         "1",
         "b",
         "68",
         "59",
         "36.88235294",
         "0.41025641",
         "162.6801489",
         "348",
         "9",
         "0.58974359"
        ]
       ],
       "shape": {
        "columns": 9,
        "rows": 2
       }
      },
      "text/html": [
       "<div>\n",
       "<style scoped>\n",
       "    .dataframe tbody tr th:only-of-type {\n",
       "        vertical-align: middle;\n",
       "    }\n",
       "\n",
       "    .dataframe tbody tr th {\n",
       "        vertical-align: top;\n",
       "    }\n",
       "\n",
       "    .dataframe thead th {\n",
       "        text-align: right;\n",
       "    }\n",
       "</style>\n",
       "<table border=\"1\" class=\"dataframe\">\n",
       "  <thead>\n",
       "    <tr style=\"text-align: right;\">\n",
       "      <th></th>\n",
       "      <th>Version</th>\n",
       "      <th>Active users</th>\n",
       "      <th>New users</th>\n",
       "      <th>Average engagement time per active user</th>\n",
       "      <th>Bounce rate</th>\n",
       "      <th>Average session duration</th>\n",
       "      <th>Event count</th>\n",
       "      <th>Event value</th>\n",
       "      <th>Engagement rate</th>\n",
       "    </tr>\n",
       "  </thead>\n",
       "  <tbody>\n",
       "    <tr>\n",
       "      <th>0</th>\n",
       "      <td>a</td>\n",
       "      <td>62</td>\n",
       "      <td>61</td>\n",
       "      <td>25.193548</td>\n",
       "      <td>0.468354</td>\n",
       "      <td>253.888132</td>\n",
       "      <td>443</td>\n",
       "      <td>146</td>\n",
       "      <td>0.531646</td>\n",
       "    </tr>\n",
       "    <tr>\n",
       "      <th>1</th>\n",
       "      <td>b</td>\n",
       "      <td>68</td>\n",
       "      <td>59</td>\n",
       "      <td>36.882353</td>\n",
       "      <td>0.410256</td>\n",
       "      <td>162.680149</td>\n",
       "      <td>348</td>\n",
       "      <td>9</td>\n",
       "      <td>0.589744</td>\n",
       "    </tr>\n",
       "  </tbody>\n",
       "</table>\n",
       "</div>"
      ],
      "text/plain": [
       "  Version  Active users  New users  Average engagement time per active user  \\\n",
       "0       a            62         61                                25.193548   \n",
       "1       b            68         59                                36.882353   \n",
       "\n",
       "   Bounce rate  Average session duration  Event count  Event value  \\\n",
       "0     0.468354                253.888132          443          146   \n",
       "1     0.410256                162.680149          348            9   \n",
       "\n",
       "   Engagement rate  \n",
       "0         0.531646  \n",
       "1         0.589744  "
      ]
     },
     "execution_count": 6,
     "metadata": {},
     "output_type": "execute_result"
    }
   ],
   "source": [
    "#import user data by bounce rate\n",
    "user_data = pd.read_csv('ga_data/User_(bounce_rate).csv')\n",
    "user_data"
   ]
  },
  {
   "cell_type": "markdown",
   "id": "b6ff0049",
   "metadata": {},
   "source": [
    "## Average Session Duration"
   ]
  },
  {
   "cell_type": "code",
   "execution_count": 22,
   "id": "ce5bba22",
   "metadata": {},
   "outputs": [
    {
     "name": "stdout",
     "output_type": "stream",
     "text": [
      "Average session duration for version A: 78.39 seconds\n",
      "Average session duration for version B: 22.72 seconds\n"
     ]
    }
   ],
   "source": [
    "print(f\"Average session duration for version A: {version_a_events[version_a_events['Event name'] == 'page_view']['Average session duration'].values[0]:.2f} seconds\")\n",
    "print(f\"Average session duration for version B: {version_b_events[version_b_events['Event name'] == 'page_view']['Average session duration'].values[0]:.2f} seconds\")"
   ]
  },
  {
   "cell_type": "markdown",
   "id": "7e39355b",
   "metadata": {},
   "source": [
    "## Two-Proportion Z-Test (for proportions like Bounce/Engagement Rate)"
   ]
  },
  {
   "cell_type": "code",
   "execution_count": 36,
   "id": "4684a8a8-8f56-4998-adba-01b5cea1d339",
   "metadata": {},
   "outputs": [
    {
     "name": "stdout",
     "output_type": "stream",
     "text": [
      "scroll -77.37468646310082 0.0\n"
     ]
    }
   ],
   "source": [
    "# Z-test between number of users who scrolled on the site using version A/B\n",
    "# whether a user scrolled or not is binary, so it is valid to use 2-prop z test \n",
    "\n",
    "scroll_a = version_a_events.at[4, 'Total users']\n",
    "scroll_b = version_b_events.at[4, 'Total users']\n",
    "\n",
    "z_statistic, p_value = ztest(count=scroll_a, nobs=scroll_b, value=bounce_a)\n",
    "print(events[4], z_statistic, p_value)"
   ]
  },
  {
   "cell_type": "markdown",
   "id": "62e91251",
   "metadata": {},
   "source": [
    "## T-Test or Welch's T-Test (for means like avg session duration and user rating)"
   ]
  },
  {
   "cell_type": "code",
   "execution_count": 54,
   "id": "68c9be94-c341-49b5-9fba-c38e65e6b612",
   "metadata": {},
   "outputs": [
    {
     "name": "stdout",
     "output_type": "stream",
     "text": [
      "ShapiroResult(statistic=0.661767669679997, pvalue=0.0001518814057219675)\n",
      "ShapiroResult(statistic=0.9366220846809401, pvalue=0.6085084506120905)\n"
     ]
    }
   ],
   "source": [
    "# Statistical test on user ratings \n",
    "from scipy import stats\n",
    "\n",
    "print(stats.shapiro(version_a_ratings['rate']))\n",
    "print(stats.shapiro(version_b_ratings['rate']))"
   ]
  },
  {
   "cell_type": "code",
   "execution_count": 56,
   "id": "9fed53aa-9dd3-4e8e-a532-86dd66cd6e1e",
   "metadata": {},
   "outputs": [
    {
     "name": "stdout",
     "output_type": "stream",
     "text": [
      "test stat:  58.0\n",
      "p value:  0.06856482928656356\n"
     ]
    }
   ],
   "source": [
    "# Since version a ratings' distribution is not normal, we cannot perform the t-test\n",
    "# instead can do the Mann-Whitney U test\n",
    "\n",
    "from scipy.stats import mannwhitneyu\n",
    "\n",
    "stat, p = mannwhitneyu(version_a_ratings['rate'], version_b_ratings['rate'], alternative='two-sided')\n",
    "print('test stat: ', stat)\n",
    "print('p value: ', p)"
   ]
  },
  {
   "cell_type": "code",
   "execution_count": null,
   "id": "5b8f24f5-dc1c-462f-8581-cde0d9da5b0b",
   "metadata": {},
   "outputs": [],
   "source": [
    "# due to the p-val > 0.05 we fail to reject the null hypothesis at 95% CI\n",
    "# so no statistically significant difference between two groups ratings of the UI at this level \n",
    "# but we may conclude there is margin"
   ]
  }
 ],
 "metadata": {
  "kernelspec": {
   "display_name": "base",
   "language": "python",
   "name": "python3"
  },
  "language_info": {
   "codemirror_mode": {
    "name": "ipython",
    "version": 3
   },
   "file_extension": ".py",
   "mimetype": "text/x-python",
   "name": "python",
   "nbconvert_exporter": "python",
   "pygments_lexer": "ipython3",
   "version": "3.12.7"
  }
 },
 "nbformat": 4,
 "nbformat_minor": 5
}
